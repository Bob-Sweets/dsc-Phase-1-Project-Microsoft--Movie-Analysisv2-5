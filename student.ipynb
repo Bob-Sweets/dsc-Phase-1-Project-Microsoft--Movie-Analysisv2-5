{
 "cells": [
  {
   "cell_type": "markdown",
   "metadata": {},
   "source": [
    "## Final Project Submission\n",
    "\n",
    "Please fill out:\n",
    "* Student name: Calvin Omwega\n",
    "* Student pace: Full time\n",
    "* Scheduled project review date/time: N/A\n",
    "* Instructor name: Maryann Mwikali\n",
    "* Blog post URL:N/A\n"
   ]
  },
  {
   "cell_type": "markdown",
   "metadata": {},
   "source": [
    "## 1.Introduction"
   ]
  },
  {
   "cell_type": "markdown",
   "metadata": {},
   "source": [
    "# 1.1 Overview\n",
    "The project's primary purpose is to generate insights that can assist Microsoft in entering and succeeding in the movie industry. We will utilize exploratory data analysis to get actionable insights to assist Microsoft determine what kind of films to develop. This project will leverage existing movie data to analyze box office trends, genre performance, and financial metrics to recommend strategic directions for Microsoft's new movie studio."
   ]
  },
  {
   "cell_type": "markdown",
   "metadata": {},
   "source": [
    "# 1.2 General Objectives\n",
    "1. Identify Successful Film Genres: Determine which movie genres are performing best at the box office, both domestically and internationally.\n",
    "\n",
    "2. Analyze Budgets versus Returns: Examine the relationship between film budgets and their financial success to identify optimal investment levels.\n",
    "\n",
    "3. Understand Market Trends: Capture current trends in movie consumption and preferences, including the impact of digital and streaming platforms.\n",
    "\n",
    "4. Provide Strategic Recommendations: Translate findings into actionable strategies for genre selection, budget allocation, and technological integration for Microsoft's studio."
   ]
  },
  {
   "cell_type": "markdown",
   "metadata": {},
   "source": [
    "# 1.3 Key Questions \n",
    "1. Which movie genres yield the highest box office earnings and ROI?\n",
    "Aims to identify genres that consistently perform well, offering a safer investment for Microsoft.\n",
    "2. What is the optimal budget range for producing a profitable movie?\n",
    "Seeks to find a budget sweet spot that maximizes earnings without unnecessarily inflating costs.\n",
    "3. How do movie budgets correlate with box office success?\n",
    "Investigates whether higher budgets lead to higher gross earnings or if diminishing returns set in beyond a certain point."
   ]
  },
  {
   "cell_type": "markdown",
   "metadata": {},
   "source": [
    "# 2. Data Sets\n",
    "The data sets are stored in the 'zippedData' folder which were sourced from:\n",
    "\n",
    "- Box Office MojoLinks\n",
    "    - bom.movie_gross.csv\n",
    "- TheMovieDBLinks\n",
    "    - tmdb.movies.csv\n",
    "- The Numbers\n",
    "    - tn.movie_budgets.csv\n"
   ]
  },
  {
   "cell_type": "markdown",
   "metadata": {},
   "source": [
    "# 2.2 Iporting the libraries"
   ]
  },
  {
   "cell_type": "code",
   "execution_count": 5,
   "metadata": {},
   "outputs": [],
   "source": [
    "# Your code here - remember to use markdown cells for comments as well!\n",
    "# importing libraries\n",
    "import pandas as pd\n",
    "import sqlite3\n",
    "import matplotlib.pyplot as plt\n",
    "import seaborn as sns\n",
    "import numpy as np \n",
    "\n",
    "%matplotlib inline"
   ]
  },
  {
   "cell_type": "code",
   "execution_count": 8,
   "metadata": {},
   "outputs": [],
   "source": [
    "# Loading the datasets\n",
    "df_gross = pd.read_csv('bom.movie_gross.csv')\n",
    "df_tmdb = pd.read_csv('tmdb.movies.csv')\n",
    "df_budgets = pd.read_csv('tn.movie_budgets.csv')"
   ]
  },
  {
   "cell_type": "code",
   "execution_count": 21,
   "metadata": {},
   "outputs": [
    {
     "name": "stdout",
     "output_type": "stream",
     "text": [
      "                                         title studio  domestic_gross  \\\n",
      "0                                  Toy Story 3     BV     415000000.0   \n",
      "1                   Alice in Wonderland (2010)     BV     334200000.0   \n",
      "2  Harry Potter and the Deathly Hallows Part 1     WB     296000000.0   \n",
      "3                                    Inception     WB     292600000.0   \n",
      "4                          Shrek Forever After   P/DW     238700000.0   \n",
      "\n",
      "   foreign_gross  year  \n",
      "0    652000000.0  2010  \n",
      "1    691300000.0  2010  \n",
      "2    664300000.0  2010  \n",
      "3    535700000.0  2010  \n",
      "4    513900000.0  2010  \n"
     ]
    },
    {
     "data": {
      "text/plain": [
       "(3387, 5)"
      ]
     },
     "execution_count": 21,
     "metadata": {},
     "output_type": "execute_result"
    }
   ],
   "source": [
    "# Displaying the first few rows of the dataset to understand its structure\n",
    "print(df_gross.head())\n",
    "df_gross.shape"
   ]
  },
  {
   "cell_type": "code",
   "execution_count": 22,
   "metadata": {},
   "outputs": [
    {
     "name": "stdout",
     "output_type": "stream",
     "text": [
      "   Unnamed: 0            genre_ids     id original_language  \\\n",
      "0           0      [12, 14, 10751]  12444                en   \n",
      "1           1  [14, 12, 16, 10751]  10191                en   \n",
      "2           2        [12, 28, 878]  10138                en   \n",
      "3           3      [16, 35, 10751]    862                en   \n",
      "4           4        [28, 878, 12]  27205                en   \n",
      "\n",
      "                                 original_title  popularity release_date  \\\n",
      "0  Harry Potter and the Deathly Hallows: Part 1      33.533   2010-11-19   \n",
      "1                      How to Train Your Dragon      28.734   2010-03-26   \n",
      "2                                    Iron Man 2      28.515   2010-05-07   \n",
      "3                                     Toy Story      28.005   1995-11-22   \n",
      "4                                     Inception      27.920   2010-07-16   \n",
      "\n",
      "                                          title  vote_average  vote_count  \n",
      "0  Harry Potter and the Deathly Hallows: Part 1           7.7       10788  \n",
      "1                      How to Train Your Dragon           7.7        7610  \n",
      "2                                    Iron Man 2           6.8       12368  \n",
      "3                                     Toy Story           7.9       10174  \n",
      "4                                     Inception           8.3       22186  \n"
     ]
    },
    {
     "data": {
      "text/plain": [
       "(26517, 10)"
      ]
     },
     "execution_count": 22,
     "metadata": {},
     "output_type": "execute_result"
    }
   ],
   "source": [
    "# This is still displaying the data sets and the first few rows of the datasets to understand its structure\n",
    "print(df_tmdb.head())\n",
    "df_tmdb.shape"
   ]
  },
  {
   "cell_type": "code",
   "execution_count": 24,
   "metadata": {},
   "outputs": [
    {
     "name": "stdout",
     "output_type": "stream",
     "text": [
      "   id  release_date                                        movie  \\\n",
      "0   1  Dec 18, 2009                                       Avatar   \n",
      "1   2  May 20, 2011  Pirates of the Caribbean: On Stranger Tides   \n",
      "2   3   Jun 7, 2019                                 Dark Phoenix   \n",
      "3   4   May 1, 2015                      Avengers: Age of Ultron   \n",
      "4   5  Dec 15, 2017            Star Wars Ep. VIII: The Last Jedi   \n",
      "\n",
      "   production_budget  domestic_gross  worldwide_gross  \n",
      "0          425000000       760507625       2776345279  \n",
      "1          410600000       241063875       1045663875  \n",
      "2          350000000        42762350        149762350  \n",
      "3          330600000       459005868       1403013963  \n",
      "4          317000000       620181382       1316721747  \n"
     ]
    },
    {
     "data": {
      "text/plain": [
       "(5782, 6)"
      ]
     },
     "execution_count": 24,
     "metadata": {},
     "output_type": "execute_result"
    }
   ],
   "source": [
    "# This is the last display of the last data set being used\n",
    "print(df_budgets.head())\n",
    "df_budgets.shape"
   ]
  },
  {
   "cell_type": "code",
   "execution_count": 19,
   "metadata": {},
   "outputs": [
    {
     "name": "stdout",
     "output_type": "stream",
     "text": [
      "object\n",
      "object\n"
     ]
    }
   ],
   "source": [
    "print(df_gross['title'].dtype)\n",
    "print(df_budgets['movie'].dtype)\n"
   ]
  },
  {
   "cell_type": "code",
   "execution_count": 20,
   "metadata": {},
   "outputs": [],
   "source": [
    "df_gross['title'] = df_gross['title'].astype(str)\n",
    "df_budgets['movie'] = df_budgets['movie'].astype(str)\n"
   ]
  },
  {
   "cell_type": "code",
   "execution_count": null,
   "metadata": {},
   "outputs": [],
   "source": []
  }
 ],
 "metadata": {
  "kernelspec": {
   "display_name": "learn-env",
   "language": "python",
   "name": "python3"
  },
  "language_info": {
   "codemirror_mode": {
    "name": "ipython",
    "version": 3
   },
   "file_extension": ".py",
   "mimetype": "text/x-python",
   "name": "python",
   "nbconvert_exporter": "python",
   "pygments_lexer": "ipython3",
   "version": "3.8.5"
  }
 },
 "nbformat": 4,
 "nbformat_minor": 2
}
